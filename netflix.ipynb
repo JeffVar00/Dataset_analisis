{
 "cells": [
  {
   "cell_type": "markdown",
   "metadata": {},
   "source": [
    "EDA"
   ]
  },
  {
   "cell_type": "code",
   "execution_count": 1,
   "metadata": {},
   "outputs": [
    {
     "data": {
      "text/html": [
       "<div>\n",
       "<style scoped>\n",
       "    .dataframe tbody tr th:only-of-type {\n",
       "        vertical-align: middle;\n",
       "    }\n",
       "\n",
       "    .dataframe tbody tr th {\n",
       "        vertical-align: top;\n",
       "    }\n",
       "\n",
       "    .dataframe thead th {\n",
       "        text-align: right;\n",
       "    }\n",
       "</style>\n",
       "<table border=\"1\" class=\"dataframe\">\n",
       "  <thead>\n",
       "    <tr style=\"text-align: right;\">\n",
       "      <th></th>\n",
       "      <th>Title</th>\n",
       "      <th>Genre</th>\n",
       "      <th>Premiere Date</th>\n",
       "      <th>Finale Date</th>\n",
       "      <th>Seasons</th>\n",
       "      <th>Cancelled</th>\n",
       "    </tr>\n",
       "  </thead>\n",
       "  <tbody>\n",
       "    <tr>\n",
       "      <th>0</th>\n",
       "      <td>House of Cards</td>\n",
       "      <td>Political drama</td>\n",
       "      <td>February 1, 2013</td>\n",
       "      <td>November 2, 2018</td>\n",
       "      <td>6</td>\n",
       "      <td>0</td>\n",
       "    </tr>\n",
       "    <tr>\n",
       "      <th>1</th>\n",
       "      <td>Orange Is the New Black</td>\n",
       "      <td>Comedy drama</td>\n",
       "      <td>July 11, 2013</td>\n",
       "      <td>July 26, 2019</td>\n",
       "      <td>7</td>\n",
       "      <td>0</td>\n",
       "    </tr>\n",
       "    <tr>\n",
       "      <th>2</th>\n",
       "      <td>Marco Polo</td>\n",
       "      <td>Historical drama</td>\n",
       "      <td>December 12, 2014</td>\n",
       "      <td>July 1, 2016</td>\n",
       "      <td>2</td>\n",
       "      <td>0</td>\n",
       "    </tr>\n",
       "    <tr>\n",
       "      <th>3</th>\n",
       "      <td>Bloodline</td>\n",
       "      <td>Thriller</td>\n",
       "      <td>March 20, 2015</td>\n",
       "      <td>May 26, 2017</td>\n",
       "      <td>3</td>\n",
       "      <td>0</td>\n",
       "    </tr>\n",
       "    <tr>\n",
       "      <th>4</th>\n",
       "      <td>Daredevil</td>\n",
       "      <td>Superherolegal drama</td>\n",
       "      <td>April 10, 2015</td>\n",
       "      <td>October 19, 2018</td>\n",
       "      <td>3</td>\n",
       "      <td>0</td>\n",
       "    </tr>\n",
       "  </tbody>\n",
       "</table>\n",
       "</div>"
      ],
      "text/plain": [
       "                     Title                 Genre      Premiere Date  \\\n",
       "0           House of Cards       Political drama   February 1, 2013   \n",
       "1  Orange Is the New Black          Comedy drama      July 11, 2013   \n",
       "2               Marco Polo      Historical drama  December 12, 2014   \n",
       "3                Bloodline              Thriller     March 20, 2015   \n",
       "4                Daredevil  Superherolegal drama     April 10, 2015   \n",
       "\n",
       "        Finale Date  Seasons  Cancelled  \n",
       "0  November 2, 2018        6          0  \n",
       "1     July 26, 2019        7          0  \n",
       "2      July 1, 2016        2          0  \n",
       "3      May 26, 2017        3          0  \n",
       "4  October 19, 2018        3          0  "
      ]
     },
     "execution_count": 1,
     "metadata": {},
     "output_type": "execute_result"
    }
   ],
   "source": [
    "import pandas as pd\n",
    "\n",
    "# Cargar el archivo CSV en un DataFrame de pandas\n",
    "file_path = 'C:/Users/HP/OneDrive - Universidad Nacional de Costa Rica/Escritorio/Dataset_analisis/All Ended Netflix Original Shows.csv'\n",
    "data = pd.read_csv(file_path)\n",
    "\n",
    "# Mostrar las primeras filas del DataFrame para inspección\n",
    "data.head()\n",
    "\n"
   ]
  },
  {
   "cell_type": "code",
   "execution_count": 2,
   "metadata": {},
   "outputs": [
    {
     "name": "stdout",
     "output_type": "stream",
     "text": [
      "           Seasons    Cancelled\n",
      "count  1353.000000  1353.000000\n",
      "mean      1.483370     0.722099\n",
      "std       1.036278     0.448130\n",
      "min       1.000000     0.000000\n",
      "25%       1.000000     0.000000\n",
      "50%       1.000000     1.000000\n",
      "75%       2.000000     1.000000\n",
      "max       8.000000     1.000000\n"
     ]
    }
   ],
   "source": [
    "descriptive_stats = data.describe()\n",
    "print(descriptive_stats)\n"
   ]
  },
  {
   "cell_type": "code",
   "execution_count": 3,
   "metadata": {},
   "outputs": [
    {
     "name": "stdout",
     "output_type": "stream",
     "text": [
      "1    977\n",
      "0    376\n",
      "Name: Cancelled, dtype: int64\n"
     ]
    }
   ],
   "source": [
    "class_counts = data['Cancelled'].value_counts()\n",
    "print(class_counts)\n"
   ]
  },
  {
   "cell_type": "markdown",
   "metadata": {},
   "source": [
    "Se va a utilizar una clasificación binaria, ya que la variable objetivo es \"Cancelled,\" indica si un programa de televisión ha sido cancelado (1) o no (0). En este tipo de clasificación, el objetivo es predecir la pertenencia de un programa de televisión a una de las dos categorías posibles: \"cancelado\" o \"no cancelado.\""
   ]
  },
  {
   "cell_type": "markdown",
   "metadata": {},
   "source": [
    "Matíz de Correlación"
   ]
  },
  {
   "cell_type": "code",
   "execution_count": 4,
   "metadata": {},
   "outputs": [
    {
     "data": {
      "image/png": "[encoded data removed]",
      "text/plain": [
       "<Figure size 800x600 with 2 Axes>"
      ]
     },
     "metadata": {},
     "output_type": "display_data"
    }
   ],
   "source": [
    "import seaborn as sns\n",
    "import matplotlib.pyplot as plt\n",
    "\n",
    "correlation_matrix = data[['Seasons', 'Cancelled']].corr()\n",
    "\n",
    "plt.figure(figsize=(8, 6))\n",
    "sns.heatmap(correlation_matrix, annot=True, cmap='coolwarm')\n",
    "plt.title('Matriz de Correlación Numérica')\n",
    "plt.show()\n"
   ]
  },
  {
   "cell_type": "markdown",
   "metadata": {},
   "source": [
    "Valor de Correlación 1 (1.0): El valor de correlación de 1.0 representa una correlación positiva perfecta entre las dos variables. Esto significa que las variables 'Seasons' y 'Cancelled' están fuertemente relacionadas en una dirección positiva. En otras palabras, a medida que la cantidad de temporadas ('Seasons') aumenta, la probabilidad de que un programa sea cancelado ('Cancelled') también aumenta. Esto sugiere que los programas con más temporadas tienden a ser cancelados con mayor frecuencia.\n",
    "\n",
    "Valor de Correlación -0.75: El valor de correlación de -0.75 representa una correlación negativa fuerte. En este caso, sugiere que a medida que la cantidad de temporadas ('Seasons') aumenta, la probabilidad de que un programa sea cancelado ('Cancelled') disminuye. Es decir, los programas con más temporadas tienen menos probabilidades de ser cancelados. Esta relación negativa fuerte puede indicar que los programas exitosos o populares tienden a tener más temporadas y, por lo tanto, tienen menos probabilidades de ser cancelados."
   ]
  },
  {
   "cell_type": "markdown",
   "metadata": {},
   "source": [
    "Diagrama de Pareto de Géneros (Categorías Seleccionadas)"
   ]
  },
  {
   "cell_type": "code",
   "execution_count": 5,
   "metadata": {},
   "outputs": [
    {
     "name": "stderr",
     "output_type": "stream",
     "text": [
      "C:\\Users\\HP\\AppData\\Local\\Temp\\ipykernel_28336\\3031260410.py:12: FutureWarning: \n",
      "\n",
      "Passing `palette` without assigning `hue` is deprecated and will be removed in v0.14.0. Assign the `x` variable to `hue` and set `legend=False` for the same effect.\n",
      "\n",
      "  sns.barplot(x=genre_pareto, y=genre_counts, palette='viridis')\n"
     ]
    },
    {
     "data": {
      "text/plain": [
       "([0, 1, 2, 3],\n",
       " [Text(0, 0, 'True crime'),\n",
       "  Text(1, 0, 'Comedy'),\n",
       "  Text(2, 0, 'Drama'),\n",
       "  Text(3, 0, 'Science fiction')])"
      ]
     },
     "execution_count": 5,
     "metadata": {},
     "output_type": "execute_result"
    },
    {
     "data": {
      "image/png": "[encoded data removed]",
      "text/plain": [
       "<Figure size 1000x600 with 1 Axes>"
      ]
     },
     "metadata": {},
     "output_type": "display_data"
    }
   ],
   "source": [
    "# Selecciona un subconjunto de categorías\n",
    "categorias_a_mostrar = ['Science fiction', 'Comedy', 'Drama', 'True crime']\n",
    "\n",
    "# Filtra los datos para incluir solo las categorías seleccionadas\n",
    "data_filtrada = data[data['Genre'].isin(categorias_a_mostrar)]\n",
    "\n",
    "# Crea el diagrama de Pareto de géneros con los datos filtrados\n",
    "plt.figure(figsize=(10, 6))\n",
    "genre_counts = data_filtrada['Genre'].value_counts()\n",
    "genre_cumulative = genre_counts.cumsum() / genre_counts.sum()\n",
    "genre_pareto = genre_counts.index\n",
    "sns.barplot(x=genre_pareto, y=genre_counts, palette='viridis')\n",
    "plt.xlabel('Género')\n",
    "plt.ylabel('Recuento')\n",
    "plt.title('Diagrama de Pareto de Géneros (Categorías Seleccionadas)')\n",
    "plt.xticks(rotation=90)"
   ]
  },
  {
   "cell_type": "markdown",
   "metadata": {},
   "source": [
    "Eje X (Género): En el eje horizontal, se muestran los géneros de programas de televisión seleccionados, que en este caso son 'Science fiction', 'Comedy', 'Drama' y 'True crime'. Cada barra representa uno de estos géneros.\n",
    "\n",
    "Eje Y (Recuento): En el eje vertical, se muestra el recuento de programas de televisión que pertenecen a cada género seleccionado.\n",
    "\n",
    "Barras del Gráfico: Cada barra representa uno de los géneros seleccionados y su altura corresponde al número de programas de televisión en ese género.\n",
    "\n",
    "Orden Descendente: Las barras están ordenadas en orden descendente según el recuento. Esto significa que el género con el recuento más alto se encuentra en la parte izquierda del gráfico, y los géneros menos comunes están en la parte derecha.\n",
    "\n",
    "Se seselccionaron estas categorias para ser analizadas por dos motivos. Primero, mediante una busqueda dentro de la misma aplicación de Netflix nos mostró que estas eran las categorías más populares. Segundo, era necesario hacer esta seleccion ya que la cantidad de generos dentro del dataset es exagerado, por lo que era imposible reflejar los resultados de cada uno de ellos. \n",
    "\n",
    "Analisis:\n",
    "\n",
    "Identificación de Géneros Principales: Se identifica que las series de genero \"True Crime\" son las que existen en mayor cantidad. Mientras que las series de categorias \"Science fiction\" son las que existen en menor cantidad.\n",
    "\n"
   ]
  },
  {
   "cell_type": "markdown",
   "metadata": {},
   "source": [
    "Correlación Categórica de programas Cancelados con los diferentes generos"
   ]
  },
  {
   "cell_type": "code",
   "execution_count": 6,
   "metadata": {},
   "outputs": [
    {
     "data": {
      "image/png": "[encoded data removed]",
      "text/plain": [
       "<Figure size 1000x600 with 1 Axes>"
      ]
     },
     "metadata": {},
     "output_type": "display_data"
    }
   ],
   "source": [
    "# Selecciona un subconjunto de categorías\n",
    "categorias_a_mostrar = ['Science fiction', 'Comedy', 'Drama', 'True crime']\n",
    "\n",
    "# Filtra los datos para incluir solo las categorías seleccionadas\n",
    "data_filtrada = data[data['Genre'].isin(categorias_a_mostrar)]\n",
    "\n",
    "plt.figure(figsize=(10, 6))\n",
    "sns.countplot(x='Genre', hue='Cancelled', data=data_filtrada)\n",
    "plt.xlabel('Género')\n",
    "plt.ylabel('Recuento')\n",
    "plt.title('Distribución de Series Canceladas por Género')\n",
    "plt.xticks(rotation=90)  # Para mejorar la legibilidad de las etiquetas\n",
    "plt.legend(title='Cancelled', labels=['No', 'Sí'])\n",
    "plt.show()\n"
   ]
  },
  {
   "cell_type": "markdown",
   "metadata": {},
   "source": [
    "Eje X (Género): En el eje horizontal, se encuentran las categorías de género de las series de televisión, que incluyen 'Science fiction', 'Comedy', 'Drama' y 'True crime'. Estas son las categorías seleccionadas para el análisis.\n",
    "\n",
    "Eje Y (Recuento): En el eje vertical, se muestra el recuento de series de televisión en cada categoría de género. Cuanto mayor sea la altura de la barra, mayor será el número de series en ese género.\n",
    "\n",
    "Barras Apiladas: Cada barra en el gráfico representa una categoría de género, y está dividida en dos secciones apiladas. Las barras de color naranja muestran el número de series canceladas ('Cancelled' = 'Sí'), y las barras de color azul muestran el número de series no canceladas ('Cancelled' = 'No') en esa categoría de género.\n",
    "\n",
    "\n",
    "Análisis de Resultados:\n",
    "\n",
    "Distribución por Género: El gráfico muestra cómo se distribuyen las series canceladas y no canceladas en las diferentes categorías de género. Por ejemplo, en la categoría 'Science fiction', la barra superior es más pequeña que la barra inferior, lo que indica que hay más series no canceladas en esta categoría. En otras palabras, 'Science fiction' tiene un mayor número de series que no han sido canceladas.\n",
    "\n",
    "Comparación de Cancelación por Género: En 'Comedy', las barras están casi a la misma altura, lo que sugiere que hay una distribución equitativa de series canceladas y no canceladas en esta categoría.\n",
    "\n",
    "Tendencias: Dentro de las categorías analizadas, se puede observar que las series de genero \"True Crime\" son las que tienden a ser canceladas más amenudo."
   ]
  },
  {
   "cell_type": "markdown",
   "metadata": {},
   "source": [
    "Gráfico de Tendendias de Programas nuevos por Año"
   ]
  },
  {
   "cell_type": "code",
   "execution_count": 8,
   "metadata": {},
   "outputs": [
    {
     "data": {
      "text/plain": [
       "Text(0.5, 1.0, 'Tendencia de Programas por Año')"
      ]
     },
     "execution_count": 8,
     "metadata": {},
     "output_type": "execute_result"
    },
    {
     "data": {
      "image/png": "[encoded data removed]",
      "text/plain": [
       "<Figure size 1000x600 with 1 Axes>"
      ]
     },
     "metadata": {},
     "output_type": "display_data"
    }
   ],
   "source": [
    "data['Premiere Date'] = pd.to_datetime(data['Premiere Date'])\n",
    "time_series = data.groupby(data['Premiere Date'].dt.year)['Title'].count()\n",
    "time_series.plot(kind='line', figsize=(10, 6))\n",
    "plt.xlabel('Año de Estreno')\n",
    "plt.ylabel('Número de Programas')\n",
    "plt.title('Tendencia de Programas por Año')\n"
   ]
  },
  {
   "cell_type": "markdown",
   "metadata": {},
   "source": [
    "Eje X (Año de Estreno): En el eje horizontal, se muestran los años de estreno de los programas de televisión.\n",
    "\n",
    "Eje Y (Número de Programas): En el eje vertical, se muestra el número de programas de televisión que se estrenaron en un año en particular.\n",
    "\n",
    "Línea de Tendencia: La línea en el gráfico conecta los puntos que representan cada año de estreno. La pendiente y la forma de la línea de tendencia indican la dirección de la tendencia a lo largo de los años.\n",
    "\n",
    "Análisis de Resultados:\n",
    "\n",
    "Tendencia a lo largo del Tiempo: Para el año 2018 y antes del 2022 se pueden observar picos en el número de programas estrenados. Además, se puede observar que hubo una tendencia en el aumento de número de programas estrenados por año desde el 2012 hasta antes del 2020.\n",
    "\n",
    "Picos y Valles: LSe puede observar que existio un \"valle\" en el aumento de número de programas nuevos durante el 2020. Esto se debe principalmente a la pandemia."
   ]
  },
  {
   "cell_type": "markdown",
   "metadata": {},
   "source": [
    "Limpieza de Datos"
   ]
  },
  {
   "cell_type": "code",
   "execution_count": 71,
   "metadata": {},
   "outputs": [
    {
     "data": {
      "image/png": "[encoded data removed]",
      "text/plain": [
       "<Figure size 1000x600 with 1 Axes>"
      ]
     },
     "metadata": {},
     "output_type": "display_data"
    }
   ],
   "source": [
    "\n",
    "import matplotlib.pyplot as plt\n",
    "\n",
    "# Creación un diccionario para almacenar el conteo de valores nulos por columna\n",
    "conteo_nulos_por_columna = {}\n",
    "\n",
    "# Iteraración a través de las columnas del DataFrame\n",
    "for columna in data.columns:\n",
    "    conteo_nulos = data[columna].isnull().sum()\n",
    "    conteo_nulos_por_columna[columna] = conteo_nulos\n",
    "\n",
    "# Visualización de los valores nulos en un gráfico de barras\n",
    "plt.figure(figsize=(10, 6))\n",
    "plt.bar(conteo_nulos_por_columna.keys(), conteo_nulos_por_columna.values())\n",
    "plt.title('Conteo de Valores Nulos por Columna')\n",
    "plt.xlabel('Columna')\n",
    "plt.ylabel('Cantidad de Valores Nulos')\n",
    "plt.xticks(rotation=90)  # Rotar los nombres de las columnas en el eje x para una mejor legibilidad\n",
    "plt.show()\n"
   ]
  },
  {
   "cell_type": "code",
   "execution_count": 72,
   "metadata": {},
   "outputs": [
    {
     "data": {
      "text/html": [
       "<div>\n",
       "<style scoped>\n",
       "    .dataframe tbody tr th:only-of-type {\n",
       "        vertical-align: middle;\n",
       "    }\n",
       "\n",
       "    .dataframe tbody tr th {\n",
       "        vertical-align: top;\n",
       "    }\n",
       "\n",
       "    .dataframe thead th {\n",
       "        text-align: right;\n",
       "    }\n",
       "</style>\n",
       "<table border=\"1\" class=\"dataframe\">\n",
       "  <thead>\n",
       "    <tr style=\"text-align: right;\">\n",
       "      <th></th>\n",
       "      <th>Title</th>\n",
       "      <th>Genre</th>\n",
       "      <th>Premiere Date</th>\n",
       "      <th>Finale Date</th>\n",
       "      <th>Seasons</th>\n",
       "      <th>Cancelled</th>\n",
       "    </tr>\n",
       "  </thead>\n",
       "  <tbody>\n",
       "    <tr>\n",
       "      <th>302</th>\n",
       "      <td>All Hail King Julien</td>\n",
       "      <td>Unknown</td>\n",
       "      <td>December 19, 2014</td>\n",
       "      <td>December 1, 2017</td>\n",
       "      <td>5</td>\n",
       "      <td>0</td>\n",
       "    </tr>\n",
       "    <tr>\n",
       "      <th>303</th>\n",
       "      <td>Ever After High</td>\n",
       "      <td>Unknown</td>\n",
       "      <td>February 6, 2015</td>\n",
       "      <td>August 5, 2016</td>\n",
       "      <td>5</td>\n",
       "      <td>0</td>\n",
       "    </tr>\n",
       "    <tr>\n",
       "      <th>304</th>\n",
       "      <td>Dragons: Race to the Edge</td>\n",
       "      <td>Unknown</td>\n",
       "      <td>June 26, 2015</td>\n",
       "      <td>February 16, 2018</td>\n",
       "      <td>6</td>\n",
       "      <td>0</td>\n",
       "    </tr>\n",
       "    <tr>\n",
       "      <th>305</th>\n",
       "      <td>Popples</td>\n",
       "      <td>Unknown</td>\n",
       "      <td>October 30, 2015</td>\n",
       "      <td>July 24, 2016</td>\n",
       "      <td>3</td>\n",
       "      <td>0</td>\n",
       "    </tr>\n",
       "    <tr>\n",
       "      <th>306</th>\n",
       "      <td>Care Bears and Cousins</td>\n",
       "      <td>Unknown</td>\n",
       "      <td>November 6, 2015</td>\n",
       "      <td>February 5, 2016</td>\n",
       "      <td>2</td>\n",
       "      <td>0</td>\n",
       "    </tr>\n",
       "    <tr>\n",
       "      <th>...</th>\n",
       "      <td>...</td>\n",
       "      <td>...</td>\n",
       "      <td>...</td>\n",
       "      <td>...</td>\n",
       "      <td>...</td>\n",
       "      <td>...</td>\n",
       "    </tr>\n",
       "    <tr>\n",
       "      <th>1330</th>\n",
       "      <td>VeggieTales in the City</td>\n",
       "      <td>Unknown</td>\n",
       "      <td>February 24, 2017</td>\n",
       "      <td>September 15, 2017</td>\n",
       "      <td>2</td>\n",
       "      <td>0</td>\n",
       "    </tr>\n",
       "    <tr>\n",
       "      <th>1331</th>\n",
       "      <td>Spirit Riding Free</td>\n",
       "      <td>Unknown</td>\n",
       "      <td>May 5, 2017</td>\n",
       "      <td>April 5, 2019</td>\n",
       "      <td>8</td>\n",
       "      <td>0</td>\n",
       "    </tr>\n",
       "    <tr>\n",
       "      <th>1332</th>\n",
       "      <td>Dinotrux Supercharged</td>\n",
       "      <td>Unknown</td>\n",
       "      <td>November 10, 2017</td>\n",
       "      <td>August 3, 2018</td>\n",
       "      <td>3</td>\n",
       "      <td>0</td>\n",
       "    </tr>\n",
       "    <tr>\n",
       "      <th>1333</th>\n",
       "      <td>Ask the StoryBotsKorea Edition</td>\n",
       "      <td>Unknown</td>\n",
       "      <td>May 5, 2021</td>\n",
       "      <td>May 5, 2021</td>\n",
       "      <td>1</td>\n",
       "      <td>1</td>\n",
       "    </tr>\n",
       "    <tr>\n",
       "      <th>1334</th>\n",
       "      <td>Transformers: BotBots</td>\n",
       "      <td>Unknown</td>\n",
       "      <td>March 25, 2022</td>\n",
       "      <td>March 25, 2022</td>\n",
       "      <td>1</td>\n",
       "      <td>1</td>\n",
       "    </tr>\n",
       "  </tbody>\n",
       "</table>\n",
       "<p>113 rows × 6 columns</p>\n",
       "</div>"
      ],
      "text/plain": [
       "                               Title    Genre      Premiere Date  \\\n",
       "302             All Hail King Julien  Unknown  December 19, 2014   \n",
       "303                  Ever After High  Unknown   February 6, 2015   \n",
       "304        Dragons: Race to the Edge  Unknown      June 26, 2015   \n",
       "305                          Popples  Unknown   October 30, 2015   \n",
       "306           Care Bears and Cousins  Unknown   November 6, 2015   \n",
       "...                              ...      ...                ...   \n",
       "1330         VeggieTales in the City  Unknown  February 24, 2017   \n",
       "1331              Spirit Riding Free  Unknown        May 5, 2017   \n",
       "1332           Dinotrux Supercharged  Unknown  November 10, 2017   \n",
       "1333  Ask the StoryBotsKorea Edition  Unknown        May 5, 2021   \n",
       "1334           Transformers: BotBots  Unknown     March 25, 2022   \n",
       "\n",
       "             Finale Date  Seasons  Cancelled  \n",
       "302     December 1, 2017        5          0  \n",
       "303       August 5, 2016        5          0  \n",
       "304    February 16, 2018        6          0  \n",
       "305        July 24, 2016        3          0  \n",
       "306     February 5, 2016        2          0  \n",
       "...                  ...      ...        ...  \n",
       "1330  September 15, 2017        2          0  \n",
       "1331       April 5, 2019        8          0  \n",
       "1332      August 3, 2018        3          0  \n",
       "1333         May 5, 2021        1          1  \n",
       "1334      March 25, 2022        1          1  \n",
       "\n",
       "[113 rows x 6 columns]"
      ]
     },
     "execution_count": 72,
     "metadata": {},
     "output_type": "execute_result"
    }
   ],
   "source": [
    "#Llenado de los valores nulos de la columna Genre con la palabra Unknown\n",
    "data['Genre'] = data['Genre'].fillna('Unknown')\n",
    "\n",
    "null_finale_date_rows = data[data['Genre'].notnull()]\n",
    "\n",
    "# Mostrando las filas que tienen el Genre unknown\n",
    "data[data['Genre'] == 'Unknown']\n"
   ]
  },
  {
   "cell_type": "markdown",
   "metadata": {},
   "source": [
    "La técnica de llenado de valores nulos se utiliza en este dataset para manejar los valores faltantes en la columna \"Genre\" (género de los programas de televisión).\n",
    "\n",
    "El llenado de valores nulos en esta columna específica con la palabra \"Unknown\" se utiliza para asignar una categoría temporal a los programas que no tienen un género registrado. Esta decisión se basa en la premisa de que es preferible tener una etiqueta categórica en lugar de un valor nulo, ya que muchos algoritmos de aprendizaje automático requieren que todas las características tengan valores válidos para su funcionamiento. Al llenar los valores nulos con \"Unknown,\" se crea una categoría ficticia que representa la falta de información sobre el género de un programa.\n",
    "\n",
    "El resultado de esta operación es que se asigna el valor \"Unknown\" a los programas que inicialmente tenían valores nulos en la columna \"Genre.\" Esto permite mantener esos programas en el conjunto de datos y utilizarlos en análisis posteriores sin tener que eliminarlos debido a valores faltantes."
   ]
  },
  {
   "cell_type": "markdown",
   "metadata": {},
   "source": [
    "Modelado"
   ]
  },
  {
   "cell_type": "markdown",
   "metadata": {},
   "source": [
    "Submuestreo utilizando la técnica de SMOTE"
   ]
  },
  {
   "cell_type": "code",
   "execution_count": 10,
   "metadata": {},
   "outputs": [],
   "source": [
    "import pandas as pd\n",
    "from sklearn.model_selection import train_test_split\n",
    "from sklearn.preprocessing import OneHotEncoder\n",
    "from imblearn.over_sampling import SMOTE  \n",
    "from sklearn.ensemble import RandomForestClassifier\n",
    "from sklearn.svm import SVC\n",
    "from sklearn.neighbors import KNeighborsClassifier\n",
    "from sklearn.cluster import KMeans  \n",
    "from sklearn.model_selection import GridSearchCV\n",
    "from sklearn.metrics import classification_report, confusion_matrix\n",
    "\n",
    "# Codificación One-Hot para variables categóricas\n",
    "encoder = OneHotEncoder(drop='first')  # drop='first' para evitar la multicolinealidad\n",
    "genre_encoded = encoder.fit_transform(data[['Genre']]).toarray()\n",
    "genre_encoded_df = pd.DataFrame(genre_encoded, columns=encoder.get_feature_names_out(['Genre']))\n",
    "\n",
    "# Concatenar con el conjunto de datos original y eliminar la columna categórica original\n",
    "data = pd.concat([data, genre_encoded_df], axis=1).drop(columns=['Genre', 'Title', 'Premiere Date', 'Finale Date'])  # eliminamos las columnas que no necesitamos\n",
    "\n",
    "# Dividir el conjunto de datos en características (X) y variable objetivo (y)\n",
    "X = data.drop(columns=['Cancelled'])\n",
    "y = data['Cancelled']\n",
    "\n",
    "# Dividir el conjunto de datos en entrenamiento y prueba\n",
    "X_train, X_test, y_train, y_test = train_test_split(X, y, test_size=0.2, random_state=42)  # ajusta test_size según tus necesidades\n",
    "\n",
    "# Aplicar SMOTE para manejar el desequilibrio de clases\n",
    "smote = SMOTE(random_state=42)\n",
    "X_train_smote, y_train_smote = smote.fit_resample(X_train, y_train)\n"
   ]
  },
  {
   "cell_type": "markdown",
   "metadata": {},
   "source": [
    "La razón detrás de la aplicación de SMOTE en la realización del submuestreo del dataset es abordar el desequilibrio de clases en el conjunto de datos. Dado que el objetivo es predecir si un programa de televisión ha sido cancelado o no (columna \"Cancelled\"), es común que haya menos ejemplos de programas cancelados (etiqueta 1) en comparación con los no cancelados (etiqueta 0). Al aplicar SMOTE, se generan ejemplos sintéticos de programas cancelados para igualar la cantidad de ejemplos en ambas clases, lo que mejora el rendimiento de los modelos de clasificación."
   ]
  },
  {
   "cell_type": "markdown",
   "metadata": {},
   "source": [
    "Algoritmos Supervisados"
   ]
  },
  {
   "cell_type": "markdown",
   "metadata": {},
   "source": [
    "Random Forest"
   ]
  },
  {
   "cell_type": "code",
   "execution_count": 11,
   "metadata": {},
   "outputs": [
    {
     "name": "stdout",
     "output_type": "stream",
     "text": [
      "Random Forest:\n",
      "              precision    recall  f1-score   support\n",
      "\n",
      "           0       1.00      0.97      0.98        64\n",
      "           1       0.99      1.00      1.00       207\n",
      "\n",
      "    accuracy                           0.99       271\n",
      "   macro avg       1.00      0.98      0.99       271\n",
      "weighted avg       0.99      0.99      0.99       271\n",
      "\n"
     ]
    }
   ],
   "source": [
    "# Algoritmos supervisados\n",
    "# Random Forest\n",
    "rf = RandomForestClassifier(random_state=42)\n",
    "rf.fit(X_train_smote, y_train_smote)\n",
    "y_pred_rf = rf.predict(X_test)\n",
    "print(\"Random Forest:\")\n",
    "print(classification_report(y_test, y_pred_rf))"
   ]
  },
  {
   "cell_type": "markdown",
   "metadata": {},
   "source": [
    "SVM"
   ]
  },
  {
   "cell_type": "code",
   "execution_count": 12,
   "metadata": {},
   "outputs": [
    {
     "name": "stdout",
     "output_type": "stream",
     "text": [
      "SVM:\n",
      "              precision    recall  f1-score   support\n",
      "\n",
      "           0       1.00      0.97      0.98        64\n",
      "           1       0.99      1.00      1.00       207\n",
      "\n",
      "    accuracy                           0.99       271\n",
      "   macro avg       1.00      0.98      0.99       271\n",
      "weighted avg       0.99      0.99      0.99       271\n",
      "\n"
     ]
    }
   ],
   "source": [
    "# SVM\n",
    "svm = SVC(random_state=42)\n",
    "svm.fit(X_train_smote, y_train_smote)\n",
    "y_pred_svm = svm.predict(X_test)\n",
    "print(\"SVM:\")\n",
    "print(classification_report(y_test, y_pred_svm))"
   ]
  },
  {
   "cell_type": "markdown",
   "metadata": {},
   "source": [
    "KNN"
   ]
  },
  {
   "cell_type": "code",
   "execution_count": 13,
   "metadata": {},
   "outputs": [
    {
     "name": "stdout",
     "output_type": "stream",
     "text": [
      "KNN:\n",
      "              precision    recall  f1-score   support\n",
      "\n",
      "           0       0.57      0.94      0.71        64\n",
      "           1       0.98      0.78      0.87       207\n",
      "\n",
      "    accuracy                           0.82       271\n",
      "   macro avg       0.77      0.86      0.79       271\n",
      "weighted avg       0.88      0.82      0.83       271\n",
      "\n"
     ]
    }
   ],
   "source": [
    "# KNN\n",
    "knn = KNeighborsClassifier()\n",
    "knn.fit(X_train_smote, y_train_smote)\n",
    "y_pred_knn = knn.predict(X_test)\n",
    "print(\"KNN:\")\n",
    "print(classification_report(y_test, y_pred_knn))"
   ]
  },
  {
   "cell_type": "code",
   "execution_count": null,
   "metadata": {},
   "outputs": [],
   "source": [
    "Algoritmos No Supervisados (KMeans)"
   ]
  },
  {
   "cell_type": "code",
   "execution_count": 14,
   "metadata": {},
   "outputs": [
    {
     "data": {
      "text/html": [
       "<div>\n",
       "<style scoped>\n",
       "    .dataframe tbody tr th:only-of-type {\n",
       "        vertical-align: middle;\n",
       "    }\n",
       "\n",
       "    .dataframe tbody tr th {\n",
       "        vertical-align: top;\n",
       "    }\n",
       "\n",
       "    .dataframe thead th {\n",
       "        text-align: right;\n",
       "    }\n",
       "</style>\n",
       "<table border=\"1\" class=\"dataframe\">\n",
       "  <thead>\n",
       "    <tr style=\"text-align: right;\">\n",
       "      <th></th>\n",
       "      <th>Seasons</th>\n",
       "      <th>Cancelled</th>\n",
       "      <th>Genre_Action comedy</th>\n",
       "      <th>Genre_Action drama</th>\n",
       "      <th>Genre_Action horror</th>\n",
       "      <th>Genre_Action-adventure</th>\n",
       "      <th>Genre_Actiondrama</th>\n",
       "      <th>Genre_Aftershow</th>\n",
       "      <th>Genre_Aftershow/Interview</th>\n",
       "      <th>Genre_Animation</th>\n",
       "      <th>...</th>\n",
       "      <th>Genre_War drama</th>\n",
       "      <th>Genre_Western</th>\n",
       "      <th>Genre_Workplace comedy</th>\n",
       "      <th>Genre_Workplace comedy/Science fiction</th>\n",
       "      <th>Genre_Workplacedramedy</th>\n",
       "      <th>Genre_Young adultcrime comedy</th>\n",
       "      <th>Genre_Young adultmysterydrama</th>\n",
       "      <th>Genre_Yule log</th>\n",
       "      <th>Genre_Zombie horror</th>\n",
       "      <th>Genre_nan</th>\n",
       "    </tr>\n",
       "  </thead>\n",
       "  <tbody>\n",
       "    <tr>\n",
       "      <th>Seasons</th>\n",
       "      <td>1.0</td>\n",
       "      <td>-1.0</td>\n",
       "      <td>-1.0</td>\n",
       "      <td>-1.0</td>\n",
       "      <td>-1.0</td>\n",
       "      <td>-1.0</td>\n",
       "      <td>1.0</td>\n",
       "      <td>-1.0</td>\n",
       "      <td>1.0</td>\n",
       "      <td>-1.0</td>\n",
       "      <td>...</td>\n",
       "      <td>-1.0</td>\n",
       "      <td>-1.0</td>\n",
       "      <td>1.0</td>\n",
       "      <td>-1.0</td>\n",
       "      <td>-1.0</td>\n",
       "      <td>-1.0</td>\n",
       "      <td>-1.0</td>\n",
       "      <td>-1.0</td>\n",
       "      <td>-1.0</td>\n",
       "      <td>1.0</td>\n",
       "    </tr>\n",
       "    <tr>\n",
       "      <th>Cancelled</th>\n",
       "      <td>-1.0</td>\n",
       "      <td>1.0</td>\n",
       "      <td>1.0</td>\n",
       "      <td>1.0</td>\n",
       "      <td>1.0</td>\n",
       "      <td>1.0</td>\n",
       "      <td>-1.0</td>\n",
       "      <td>1.0</td>\n",
       "      <td>-1.0</td>\n",
       "      <td>1.0</td>\n",
       "      <td>...</td>\n",
       "      <td>1.0</td>\n",
       "      <td>1.0</td>\n",
       "      <td>-1.0</td>\n",
       "      <td>1.0</td>\n",
       "      <td>1.0</td>\n",
       "      <td>1.0</td>\n",
       "      <td>1.0</td>\n",
       "      <td>1.0</td>\n",
       "      <td>1.0</td>\n",
       "      <td>-1.0</td>\n",
       "    </tr>\n",
       "    <tr>\n",
       "      <th>Genre_Action comedy</th>\n",
       "      <td>-1.0</td>\n",
       "      <td>1.0</td>\n",
       "      <td>1.0</td>\n",
       "      <td>1.0</td>\n",
       "      <td>1.0</td>\n",
       "      <td>1.0</td>\n",
       "      <td>-1.0</td>\n",
       "      <td>1.0</td>\n",
       "      <td>-1.0</td>\n",
       "      <td>1.0</td>\n",
       "      <td>...</td>\n",
       "      <td>1.0</td>\n",
       "      <td>1.0</td>\n",
       "      <td>-1.0</td>\n",
       "      <td>1.0</td>\n",
       "      <td>1.0</td>\n",
       "      <td>1.0</td>\n",
       "      <td>1.0</td>\n",
       "      <td>1.0</td>\n",
       "      <td>1.0</td>\n",
       "      <td>-1.0</td>\n",
       "    </tr>\n",
       "    <tr>\n",
       "      <th>Genre_Action drama</th>\n",
       "      <td>-1.0</td>\n",
       "      <td>1.0</td>\n",
       "      <td>1.0</td>\n",
       "      <td>1.0</td>\n",
       "      <td>1.0</td>\n",
       "      <td>1.0</td>\n",
       "      <td>-1.0</td>\n",
       "      <td>1.0</td>\n",
       "      <td>-1.0</td>\n",
       "      <td>1.0</td>\n",
       "      <td>...</td>\n",
       "      <td>1.0</td>\n",
       "      <td>1.0</td>\n",
       "      <td>-1.0</td>\n",
       "      <td>1.0</td>\n",
       "      <td>1.0</td>\n",
       "      <td>1.0</td>\n",
       "      <td>1.0</td>\n",
       "      <td>1.0</td>\n",
       "      <td>1.0</td>\n",
       "      <td>-1.0</td>\n",
       "    </tr>\n",
       "    <tr>\n",
       "      <th>Genre_Action horror</th>\n",
       "      <td>-1.0</td>\n",
       "      <td>1.0</td>\n",
       "      <td>1.0</td>\n",
       "      <td>1.0</td>\n",
       "      <td>1.0</td>\n",
       "      <td>1.0</td>\n",
       "      <td>-1.0</td>\n",
       "      <td>1.0</td>\n",
       "      <td>-1.0</td>\n",
       "      <td>1.0</td>\n",
       "      <td>...</td>\n",
       "      <td>1.0</td>\n",
       "      <td>1.0</td>\n",
       "      <td>-1.0</td>\n",
       "      <td>1.0</td>\n",
       "      <td>1.0</td>\n",
       "      <td>1.0</td>\n",
       "      <td>1.0</td>\n",
       "      <td>1.0</td>\n",
       "      <td>1.0</td>\n",
       "      <td>-1.0</td>\n",
       "    </tr>\n",
       "    <tr>\n",
       "      <th>...</th>\n",
       "      <td>...</td>\n",
       "      <td>...</td>\n",
       "      <td>...</td>\n",
       "      <td>...</td>\n",
       "      <td>...</td>\n",
       "      <td>...</td>\n",
       "      <td>...</td>\n",
       "      <td>...</td>\n",
       "      <td>...</td>\n",
       "      <td>...</td>\n",
       "      <td>...</td>\n",
       "      <td>...</td>\n",
       "      <td>...</td>\n",
       "      <td>...</td>\n",
       "      <td>...</td>\n",
       "      <td>...</td>\n",
       "      <td>...</td>\n",
       "      <td>...</td>\n",
       "      <td>...</td>\n",
       "      <td>...</td>\n",
       "      <td>...</td>\n",
       "    </tr>\n",
       "    <tr>\n",
       "      <th>Genre_Young adultcrime comedy</th>\n",
       "      <td>-1.0</td>\n",
       "      <td>1.0</td>\n",
       "      <td>1.0</td>\n",
       "      <td>1.0</td>\n",
       "      <td>1.0</td>\n",
       "      <td>1.0</td>\n",
       "      <td>-1.0</td>\n",
       "      <td>1.0</td>\n",
       "      <td>-1.0</td>\n",
       "      <td>1.0</td>\n",
       "      <td>...</td>\n",
       "      <td>1.0</td>\n",
       "      <td>1.0</td>\n",
       "      <td>-1.0</td>\n",
       "      <td>1.0</td>\n",
       "      <td>1.0</td>\n",
       "      <td>1.0</td>\n",
       "      <td>1.0</td>\n",
       "      <td>1.0</td>\n",
       "      <td>1.0</td>\n",
       "      <td>-1.0</td>\n",
       "    </tr>\n",
       "    <tr>\n",
       "      <th>Genre_Young adultmysterydrama</th>\n",
       "      <td>-1.0</td>\n",
       "      <td>1.0</td>\n",
       "      <td>1.0</td>\n",
       "      <td>1.0</td>\n",
       "      <td>1.0</td>\n",
       "      <td>1.0</td>\n",
       "      <td>-1.0</td>\n",
       "      <td>1.0</td>\n",
       "      <td>-1.0</td>\n",
       "      <td>1.0</td>\n",
       "      <td>...</td>\n",
       "      <td>1.0</td>\n",
       "      <td>1.0</td>\n",
       "      <td>-1.0</td>\n",
       "      <td>1.0</td>\n",
       "      <td>1.0</td>\n",
       "      <td>1.0</td>\n",
       "      <td>1.0</td>\n",
       "      <td>1.0</td>\n",
       "      <td>1.0</td>\n",
       "      <td>-1.0</td>\n",
       "    </tr>\n",
       "    <tr>\n",
       "      <th>Genre_Yule log</th>\n",
       "      <td>-1.0</td>\n",
       "      <td>1.0</td>\n",
       "      <td>1.0</td>\n",
       "      <td>1.0</td>\n",
       "      <td>1.0</td>\n",
       "      <td>1.0</td>\n",
       "      <td>-1.0</td>\n",
       "      <td>1.0</td>\n",
       "      <td>-1.0</td>\n",
       "      <td>1.0</td>\n",
       "      <td>...</td>\n",
       "      <td>1.0</td>\n",
       "      <td>1.0</td>\n",
       "      <td>-1.0</td>\n",
       "      <td>1.0</td>\n",
       "      <td>1.0</td>\n",
       "      <td>1.0</td>\n",
       "      <td>1.0</td>\n",
       "      <td>1.0</td>\n",
       "      <td>1.0</td>\n",
       "      <td>-1.0</td>\n",
       "    </tr>\n",
       "    <tr>\n",
       "      <th>Genre_Zombie horror</th>\n",
       "      <td>-1.0</td>\n",
       "      <td>1.0</td>\n",
       "      <td>1.0</td>\n",
       "      <td>1.0</td>\n",
       "      <td>1.0</td>\n",
       "      <td>1.0</td>\n",
       "      <td>-1.0</td>\n",
       "      <td>1.0</td>\n",
       "      <td>-1.0</td>\n",
       "      <td>1.0</td>\n",
       "      <td>...</td>\n",
       "      <td>1.0</td>\n",
       "      <td>1.0</td>\n",
       "      <td>-1.0</td>\n",
       "      <td>1.0</td>\n",
       "      <td>1.0</td>\n",
       "      <td>1.0</td>\n",
       "      <td>1.0</td>\n",
       "      <td>1.0</td>\n",
       "      <td>1.0</td>\n",
       "      <td>-1.0</td>\n",
       "    </tr>\n",
       "    <tr>\n",
       "      <th>Genre_nan</th>\n",
       "      <td>1.0</td>\n",
       "      <td>-1.0</td>\n",
       "      <td>-1.0</td>\n",
       "      <td>-1.0</td>\n",
       "      <td>-1.0</td>\n",
       "      <td>-1.0</td>\n",
       "      <td>1.0</td>\n",
       "      <td>-1.0</td>\n",
       "      <td>1.0</td>\n",
       "      <td>-1.0</td>\n",
       "      <td>...</td>\n",
       "      <td>-1.0</td>\n",
       "      <td>-1.0</td>\n",
       "      <td>1.0</td>\n",
       "      <td>-1.0</td>\n",
       "      <td>-1.0</td>\n",
       "      <td>-1.0</td>\n",
       "      <td>-1.0</td>\n",
       "      <td>-1.0</td>\n",
       "      <td>-1.0</td>\n",
       "      <td>1.0</td>\n",
       "    </tr>\n",
       "  </tbody>\n",
       "</table>\n",
       "<p>313 rows × 313 columns</p>\n",
       "</div>"
      ],
      "text/plain": [
       "                               Seasons  Cancelled  Genre_Action comedy  \\\n",
       "Seasons                            1.0       -1.0                 -1.0   \n",
       "Cancelled                         -1.0        1.0                  1.0   \n",
       "Genre_Action comedy               -1.0        1.0                  1.0   \n",
       "Genre_Action drama                -1.0        1.0                  1.0   \n",
       "Genre_Action horror               -1.0        1.0                  1.0   \n",
       "...                                ...        ...                  ...   \n",
       "Genre_Young adultcrime comedy     -1.0        1.0                  1.0   \n",
       "Genre_Young adultmysterydrama     -1.0        1.0                  1.0   \n",
       "Genre_Yule log                    -1.0        1.0                  1.0   \n",
       "Genre_Zombie horror               -1.0        1.0                  1.0   \n",
       "Genre_nan                          1.0       -1.0                 -1.0   \n",
       "\n",
       "                               Genre_Action drama  Genre_Action horror  \\\n",
       "Seasons                                      -1.0                 -1.0   \n",
       "Cancelled                                     1.0                  1.0   \n",
       "Genre_Action comedy                           1.0                  1.0   \n",
       "Genre_Action drama                            1.0                  1.0   \n",
       "Genre_Action horror                           1.0                  1.0   \n",
       "...                                           ...                  ...   \n",
       "Genre_Young adultcrime comedy                 1.0                  1.0   \n",
       "Genre_Young adultmysterydrama                 1.0                  1.0   \n",
       "Genre_Yule log                                1.0                  1.0   \n",
       "Genre_Zombie horror                           1.0                  1.0   \n",
       "Genre_nan                                    -1.0                 -1.0   \n",
       "\n",
       "                               Genre_Action-adventure  Genre_Actiondrama  \\\n",
       "Seasons                                          -1.0                1.0   \n",
       "Cancelled                                         1.0               -1.0   \n",
       "Genre_Action comedy                               1.0               -1.0   \n",
       "Genre_Action drama                                1.0               -1.0   \n",
       "Genre_Action horror                               1.0               -1.0   \n",
       "...                                               ...                ...   \n",
       "Genre_Young adultcrime comedy                     1.0               -1.0   \n",
       "Genre_Young adultmysterydrama                     1.0               -1.0   \n",
       "Genre_Yule log                                    1.0               -1.0   \n",
       "Genre_Zombie horror                               1.0               -1.0   \n",
       "Genre_nan                                        -1.0                1.0   \n",
       "\n",
       "                               Genre_Aftershow  Genre_Aftershow/Interview  \\\n",
       "Seasons                                   -1.0                        1.0   \n",
       "Cancelled                                  1.0                       -1.0   \n",
       "Genre_Action comedy                        1.0                       -1.0   \n",
       "Genre_Action drama                         1.0                       -1.0   \n",
       "Genre_Action horror                        1.0                       -1.0   \n",
       "...                                        ...                        ...   \n",
       "Genre_Young adultcrime comedy              1.0                       -1.0   \n",
       "Genre_Young adultmysterydrama              1.0                       -1.0   \n",
       "Genre_Yule log                             1.0                       -1.0   \n",
       "Genre_Zombie horror                        1.0                       -1.0   \n",
       "Genre_nan                                 -1.0                        1.0   \n",
       "\n",
       "                               Genre_Animation  ...  Genre_War drama  \\\n",
       "Seasons                                   -1.0  ...             -1.0   \n",
       "Cancelled                                  1.0  ...              1.0   \n",
       "Genre_Action comedy                        1.0  ...              1.0   \n",
       "Genre_Action drama                         1.0  ...              1.0   \n",
       "Genre_Action horror                        1.0  ...              1.0   \n",
       "...                                        ...  ...              ...   \n",
       "Genre_Young adultcrime comedy              1.0  ...              1.0   \n",
       "Genre_Young adultmysterydrama              1.0  ...              1.0   \n",
       "Genre_Yule log                             1.0  ...              1.0   \n",
       "Genre_Zombie horror                        1.0  ...              1.0   \n",
       "Genre_nan                                 -1.0  ...             -1.0   \n",
       "\n",
       "                               Genre_Western  Genre_Workplace comedy  \\\n",
       "Seasons                                 -1.0                     1.0   \n",
       "Cancelled                                1.0                    -1.0   \n",
       "Genre_Action comedy                      1.0                    -1.0   \n",
       "Genre_Action drama                       1.0                    -1.0   \n",
       "Genre_Action horror                      1.0                    -1.0   \n",
       "...                                      ...                     ...   \n",
       "Genre_Young adultcrime comedy            1.0                    -1.0   \n",
       "Genre_Young adultmysterydrama            1.0                    -1.0   \n",
       "Genre_Yule log                           1.0                    -1.0   \n",
       "Genre_Zombie horror                      1.0                    -1.0   \n",
       "Genre_nan                               -1.0                     1.0   \n",
       "\n",
       "                               Genre_Workplace comedy/Science fiction  \\\n",
       "Seasons                                                          -1.0   \n",
       "Cancelled                                                         1.0   \n",
       "Genre_Action comedy                                               1.0   \n",
       "Genre_Action drama                                                1.0   \n",
       "Genre_Action horror                                               1.0   \n",
       "...                                                               ...   \n",
       "Genre_Young adultcrime comedy                                     1.0   \n",
       "Genre_Young adultmysterydrama                                     1.0   \n",
       "Genre_Yule log                                                    1.0   \n",
       "Genre_Zombie horror                                               1.0   \n",
       "Genre_nan                                                        -1.0   \n",
       "\n",
       "                               Genre_Workplacedramedy  \\\n",
       "Seasons                                          -1.0   \n",
       "Cancelled                                         1.0   \n",
       "Genre_Action comedy                               1.0   \n",
       "Genre_Action drama                                1.0   \n",
       "Genre_Action horror                               1.0   \n",
       "...                                               ...   \n",
       "Genre_Young adultcrime comedy                     1.0   \n",
       "Genre_Young adultmysterydrama                     1.0   \n",
       "Genre_Yule log                                    1.0   \n",
       "Genre_Zombie horror                               1.0   \n",
       "Genre_nan                                        -1.0   \n",
       "\n",
       "                               Genre_Young adultcrime comedy  \\\n",
       "Seasons                                                 -1.0   \n",
       "Cancelled                                                1.0   \n",
       "Genre_Action comedy                                      1.0   \n",
       "Genre_Action drama                                       1.0   \n",
       "Genre_Action horror                                      1.0   \n",
       "...                                                      ...   \n",
       "Genre_Young adultcrime comedy                            1.0   \n",
       "Genre_Young adultmysterydrama                            1.0   \n",
       "Genre_Yule log                                           1.0   \n",
       "Genre_Zombie horror                                      1.0   \n",
       "Genre_nan                                               -1.0   \n",
       "\n",
       "                               Genre_Young adultmysterydrama  Genre_Yule log  \\\n",
       "Seasons                                                 -1.0            -1.0   \n",
       "Cancelled                                                1.0             1.0   \n",
       "Genre_Action comedy                                      1.0             1.0   \n",
       "Genre_Action drama                                       1.0             1.0   \n",
       "Genre_Action horror                                      1.0             1.0   \n",
       "...                                                      ...             ...   \n",
       "Genre_Young adultcrime comedy                            1.0             1.0   \n",
       "Genre_Young adultmysterydrama                            1.0             1.0   \n",
       "Genre_Yule log                                           1.0             1.0   \n",
       "Genre_Zombie horror                                      1.0             1.0   \n",
       "Genre_nan                                               -1.0            -1.0   \n",
       "\n",
       "                               Genre_Zombie horror  Genre_nan  \n",
       "Seasons                                       -1.0        1.0  \n",
       "Cancelled                                      1.0       -1.0  \n",
       "Genre_Action comedy                            1.0       -1.0  \n",
       "Genre_Action drama                             1.0       -1.0  \n",
       "Genre_Action horror                            1.0       -1.0  \n",
       "...                                            ...        ...  \n",
       "Genre_Young adultcrime comedy                  1.0       -1.0  \n",
       "Genre_Young adultmysterydrama                  1.0       -1.0  \n",
       "Genre_Yule log                                 1.0       -1.0  \n",
       "Genre_Zombie horror                            1.0       -1.0  \n",
       "Genre_nan                                     -1.0        1.0  \n",
       "\n",
       "[313 rows x 313 columns]"
      ]
     },
     "execution_count": 14,
     "metadata": {},
     "output_type": "execute_result"
    }
   ],
   "source": [
    "# Creación una instancia de KMeans con el número de clústeres apropiado\n",
    "kmeans = KMeans(n_clusters=2, random_state=42, n_init=10)\n",
    "\n",
    "# Ajustar el modelo K-Means a tus datos\n",
    "kmeans.fit(X)\n",
    "\n",
    "# Obtener las asignaciones de clúster para cada punto de datos\n",
    "cluster_assignments = kmeans.labels_\n",
    "\n",
    "# Agregar las asignaciones de clúster al DataFrame 'data'\n",
    "data['Cluster'] = cluster_assignments\n",
    "\n",
    "#Visualizar los resultados del clustering en una matriz de correlación\n",
    "data.groupby('Cluster').mean().corr()\n",
    "\n"
   ]
  },
  {
   "cell_type": "markdown",
   "metadata": {},
   "source": [
    "Hiper parámetros"
   ]
  },
  {
   "cell_type": "code",
   "execution_count": 15,
   "metadata": {},
   "outputs": [
    {
     "name": "stdout",
     "output_type": "stream",
     "text": [
      "Fitting 3 folds for each of 108 candidates, totalling 324 fits\n",
      "Random Forest con ajuste de hiperparámetros:\n",
      "              precision    recall  f1-score   support\n",
      "\n",
      "           0       1.00      0.97      0.98        64\n",
      "           1       0.99      1.00      1.00       207\n",
      "\n",
      "    accuracy                           0.99       271\n",
      "   macro avg       1.00      0.98      0.99       271\n",
      "weighted avg       0.99      0.99      0.99       271\n",
      "\n"
     ]
    }
   ],
   "source": [
    "# Ajuste de hiperparámetros (usando Random Forest)\n",
    "param_grid = {\n",
    "    'n_estimators': [50, 100, 200],\n",
    "    'max_depth': [None, 10, 20, 30],\n",
    "    'min_samples_split': [2, 5, 10],\n",
    "    'min_samples_leaf': [1, 2, 4]\n",
    "}\n",
    "grid_search = GridSearchCV(estimator=rf, param_grid=param_grid, cv=3, n_jobs=-1, verbose=2)\n",
    "grid_search.fit(X_train_smote, y_train_smote)\n",
    "best_grid = grid_search.best_estimator_\n",
    "\n",
    "y_pred_best_grid = best_grid.predict(X_test)\n",
    "print(\"Random Forest con ajuste de hiperparámetros:\")\n",
    "print(classification_report(y_test, y_pred_best_grid))"
   ]
  },
  {
   "cell_type": "markdown",
   "metadata": {},
   "source": [
    "Conclusiones"
   ]
  },
  {
   "cell_type": "markdown",
   "metadata": {},
   "source": [
    "Análisis de Resultados:\n",
    "\n",
    "Random Forest:\n",
    "\n",
    "El modelo Random Forest muestra un excelente rendimiento en términos de precisión, recall y puntuación F1 tanto para la Clase 0 (no cancelado) como para la Clase 1 (cancelado).\n",
    "El modelo tiene una alta precisión global del 99%, lo que indica su capacidad para clasificar correctamente la cancelación y no cancelación de programas de televisión.\n",
    "\n",
    "SVM (Support Vector Machine):\n",
    "Al igual que Random Forest, el modelo SVM tiene un rendimiento excepcional con alta precisión, recall y puntuación F1 para ambas clases.\n",
    "También muestra una precisión global del 99%.\n",
    "\n",
    "KNN (K-Nearest Neighbors):\n",
    "El modelo KNN muestra una precisión más baja para la Clase 0 (no cancelado) en comparación con Random Forest y SVM.\n",
    "Tiene un recall más alto para la Clase 1 (cancelado), lo que significa que es mejor para identificar programas cancelados.\n",
    "La precisión global del modelo es del 82%, que es la más baja entre los modelos evaluados.\n",
    "\n",
    "Por ende, tanto el modelo \"Random Forest\" como el modelo \"SVM\" mostraron un rendimiento excepcional con una precisión global del 99%. Ambos modelos lograron una alta precisión, recall y puntuación F1 tanto para la Clase 0 (no cancelado) como para la Clase 1 (cancelado). Dado que ambos modelos tuvieron resultados prácticamente idénticos, no se puede afirmar de manera concluyente cuál es mejor."
   ]
  },
  {
   "cell_type": "code",
   "execution_count": 6,
   "metadata": {},
   "outputs": [
    {
     "data": {
      "image/png": "[encoded data removed]",
      "text/plain": [
       "<Figure size 1000x600 with 1 Axes>"
      ]
     },
     "metadata": {},
     "output_type": "display_data"
    }
   ],
   "source": [
    "import matplotlib.pyplot as plt\n",
    "\n",
    "# Resultados de los modelos\n",
    "model_names = ['Random Forest', 'SVM', 'KNN']\n",
    "precision_class_0 = [1.00, 1.00, 0.57]\n",
    "recall_class_0 = [0.97, 0.97, 0.94]\n",
    "precision_class_1 = [0.99, 0.99, 0.98]\n",
    "recall_class_1 = [1.00, 1.00, 0.78]\n",
    "\n",
    "# Crear gráficos de barras para precisión y recall\n",
    "plt.figure(figsize=(10, 6))\n",
    "bar_width = 0.35\n",
    "index = range(len(model_names))\n",
    "\n",
    "plt.bar(index, precision_class_0, bar_width, label='Precisión (Clase 0)')\n",
    "plt.bar(index, recall_class_0, bar_width, label='Recall (Clase 0)', bottom=precision_class_0)\n",
    "\n",
    "plt.bar(index, precision_class_1, bar_width, label='Precisión (Clase 1)', align='edge')\n",
    "plt.bar(index, recall_class_1, bar_width, label='Recall (Clase 1)', align='edge', bottom=precision_class_1)\n",
    "\n",
    "plt.xlabel('Modelo')\n",
    "plt.ylabel('Métricas')\n",
    "plt.title('Comparación de Precisión y Recall por Modelo')\n",
    "plt.xticks([i + bar_width / 2 for i in index], model_names)\n",
    "plt.legend()\n",
    "plt.show()"
   ]
  }
 ],
 "metadata": {
  "kernelspec": {
   "display_name": "Python 3",
   "language": "python",
   "name": "python3"
  },
  "language_info": {
   "codemirror_mode": {
    "name": "ipython",
    "version": 3
   },
   "file_extension": ".py",
   "mimetype": "text/x-python",
   "name": "python",
   "nbconvert_exporter": "python",
   "pygments_lexer": "ipython3",
   "version": "3.9.5"
  },
  "orig_nbformat": 4
 },
 "nbformat": 4,
 "nbformat_minor": 2
}
